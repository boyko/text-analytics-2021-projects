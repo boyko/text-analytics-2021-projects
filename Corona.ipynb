{
 "cells": [
  {
   "cell_type": "markdown",
   "source": [
    "# Corona virus tweets\n",
    "\n",
    "The dataset `corona_tweets.csv` contains 41158 tweets (column `OriginalTweet`) that were classified\n",
    "into five categories of sentiment that is expressed in the tweets: positive, negative, Neutral, extremely positive, and extremely negative. The goal of this project is to develop a model that predicts the class of the tweets (use three categories: \"positive\", \"negative\", and \"neutral\")."
   ],
   "metadata": {
    "collapsed": false,
    "pycharm": {
     "name": "#%% md\n"
    }
   }
  },
  {
   "cell_type": "code",
   "execution_count": 8,
   "outputs": [
    {
     "name": "stdout",
     "output_type": "stream",
     "text": [
      "<class 'pandas.core.frame.DataFrame'>\n",
      "RangeIndex: 40397 entries, 0 to 40396\n",
      "Data columns (total 2 columns):\n",
      " #   Column         Non-Null Count  Dtype \n",
      "---  ------         --------------  ----- \n",
      " 0   Sentiment      40397 non-null  object\n",
      " 1   OriginalTweet  40397 non-null  object\n",
      "dtypes: object(2)\n",
      "memory usage: 631.3+ KB\n"
     ]
    }
   ],
   "source": [
    "import os\n",
    "import pandas as pd\n",
    "\n",
    "df = pd.read_csv(os.path.join(\"data\", \"corona_tweets.csv\"))\n",
    "df.info()"
   ],
   "metadata": {
    "collapsed": false,
    "pycharm": {
     "name": "#%%\n"
    }
   }
  }
 ],
 "metadata": {
  "kernelspec": {
   "display_name": "Python 3",
   "language": "python",
   "name": "python3"
  },
  "language_info": {
   "codemirror_mode": {
    "name": "ipython",
    "version": 2
   },
   "file_extension": ".py",
   "mimetype": "text/x-python",
   "name": "python",
   "nbconvert_exporter": "python",
   "pygments_lexer": "ipython2",
   "version": "2.7.6"
  }
 },
 "nbformat": 4,
 "nbformat_minor": 0
}